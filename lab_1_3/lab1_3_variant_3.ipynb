{
  "nbformat": 4,
  "nbformat_minor": 0,
  "metadata": {
    "colab": {
      "provenance": []
    },
    "kernelspec": {
      "name": "python3",
      "display_name": "Python 3"
    },
    "language_info": {
      "name": "python"
    }
  },
  "cells": [
    {
      "cell_type": "markdown",
      "source": [
        "Лабороторна робота 1.1 студента К. Д. Долматова\n",
        "\n",
        "Варіант 3: Прогнозування діабету (Pima Indians Diabetes Dataset)\n",
        "\n",
        "Опис: Прогнозування наявності діабету у пацієнтів на основі медичних характеристик.\n",
        "\n",
        "Джерело даних: Pima Indians Diabetes Dataset\n",
        "\n",
        "Код для завантаження:\n",
        "\n",
        "import pandas as pd\n",
        "\n",
        "url = \"https://raw.githubusercontent.com/jbrownlee/Datasets/master/pima-indians-diabetes.data.csv\"\n",
        "\n",
        "columns = [\"Pregnancies\", \"Glucose\", \"BloodPressure\", \"SkinThickness\", \"Insulin\", \"BMI\", \"DiabetesPedigreeFunction\", \"Age\", \"Outcome\"]\n",
        "\n",
        "data = pd.read_csv(url, names=columns)\n",
        "\n",
        "X = data.iloc[:, :-1].values\n",
        "\n",
        "y = data.iloc[:, -1].values\n"
      ],
      "metadata": {
        "id": "atsBEmMT6ogY"
      }
    },
    {
      "cell_type": "code",
      "source": [
        "import pandas as pd\n",
        "import numpy as np\n",
        "from sklearn.model_selection import train_test_split\n",
        "from sklearn.preprocessing import StandardScaler\n",
        "from sklearn.metrics import accuracy_score, precision_score, recall_score, f1_score\n",
        "import matplotlib.pyplot as plt\n",
        "\n",
        "# Завантаження датасету\n",
        "url = \"https://raw.githubusercontent.com/jbrownlee/Datasets/master/pima-indians-diabetes.data.csv\"\n",
        "columns = [\"Pregnancies\", \"Glucose\", \"BloodPressure\", \"SkinThickness\", \"Insulin\",\n",
        "           \"BMI\", \"DiabetesPedigreeFunction\", \"Age\", \"Outcome\"]\n",
        "data = pd.read_csv(url, names=columns)\n",
        "\n",
        "# Ознаки та цільова змінна\n",
        "X = data.iloc[:, :-1].values\n",
        "y = data.iloc[:, -1].values\n",
        "\n",
        "# Нормалізація\n",
        "scaler = StandardScaler()\n",
        "X_scaled = scaler.fit_transform(X)\n",
        "\n",
        "# Розділення на тренувальні та тестові дані\n",
        "X_train, X_test, y_train, y_test = train_test_split(X_scaled, y, test_size=0.2, random_state=42)\n"
      ],
      "metadata": {
        "id": "q7O9V0vOOSUJ"
      },
      "execution_count": null,
      "outputs": []
    },
    {
      "cell_type": "code",
      "source": [
        "class LogisticRegression:\n",
        "    def __init__(self, learning_rate=0.01, n_iters=1000):\n",
        "        self.lr = learning_rate\n",
        "        self.n_iters = n_iters\n",
        "\n",
        "    def sigmoid(self, z):\n",
        "        return 1 / (1 + np.exp(-z))\n",
        "\n",
        "    def fit(self, X, y):\n",
        "        self.m, self.n = X.shape\n",
        "        self.w = np.zeros(self.n)\n",
        "        self.b = 0\n",
        "        self.costs = []\n",
        "\n",
        "        for _ in range(self.n_iters):\n",
        "            linear_model = np.dot(X, self.w) + self.b\n",
        "            y_pred = self.sigmoid(linear_model)\n",
        "\n",
        "            # Функція вартості\n",
        "            cost = -(1 / self.m) * np.sum(y * np.log(y_pred + 1e-15) + (1 - y) * np.log(1 - y_pred + 1e-15))\n",
        "            self.costs.append(cost)\n",
        "\n",
        "            # Градієнти\n",
        "            dw = (1 / self.m) * np.dot(X.T, (y_pred - y))\n",
        "            db = (1 / self.m) * np.sum(y_pred - y)\n",
        "\n",
        "            # Оновлення ваг\n",
        "            self.w -= self.lr * dw\n",
        "            self.b -= self.lr * db\n",
        "\n",
        "    def predict(self, X):\n",
        "        y_pred = self.sigmoid(np.dot(X, self.w) + self.b)\n",
        "        return [1 if i > 0.5 else 0 for i in y_pred]\n"
      ],
      "metadata": {
        "id": "mnnOCdSOOSW0"
      },
      "execution_count": null,
      "outputs": []
    },
    {
      "cell_type": "code",
      "source": [
        "model = LogisticRegression(learning_rate=0.1, n_iters=1000)\n",
        "model.fit(X_train, y_train)\n"
      ],
      "metadata": {
        "id": "1_TD9ETmOSZM"
      },
      "execution_count": null,
      "outputs": []
    },
    {
      "cell_type": "code",
      "source": [
        "y_pred = model.predict(X_test)\n",
        "\n",
        "print(\"Accuracy:\", accuracy_score(y_test, y_pred))\n",
        "print(\"Precision:\", precision_score(y_test, y_pred))\n",
        "print(\"Recall:\", recall_score(y_test, y_pred))\n",
        "print(\"F1 Score:\", f1_score(y_test, y_pred))\n"
      ],
      "metadata": {
        "colab": {
          "base_uri": "https://localhost:8080/"
        },
        "id": "HR4Izi27OSbk",
        "outputId": "aef1358a-d812-4c0b-c693-da3af0d268fa"
      },
      "execution_count": null,
      "outputs": [
        {
          "output_type": "stream",
          "name": "stdout",
          "text": [
            "Accuracy: 0.7532467532467533\n",
            "Precision: 0.6491228070175439\n",
            "Recall: 0.6727272727272727\n",
            "F1 Score: 0.6607142857142857\n"
          ]
        }
      ]
    },
    {
      "cell_type": "code",
      "source": [
        "plt.plot(range(len(model.costs)), model.costs)\n",
        "plt.xlabel(\"Ітерація\")\n",
        "plt.ylabel(\"Функція вартості\")\n",
        "plt.title(\"Зміна функції вартості під час навчання\")\n",
        "plt.grid(True)\n",
        "plt.show()\n"
      ],
      "metadata": {
        "colab": {
          "base_uri": "https://localhost:8080/",
          "height": 472
        },
        "id": "MmHQF4X0OSdo",
        "outputId": "01c6b7f2-10cf-4433-9959-a22b969dad0e"
      },
      "execution_count": null,
      "outputs": [
        {
          "output_type": "display_data",
          "data": {
            "text/plain": [
              "<Figure size 640x480 with 1 Axes>"
            ],
            "image/png": "[encoded data removed]"
          },
          "metadata": {}
        }
      ]
    },
    {
      "cell_type": "markdown",
      "source": [
        " Чим відрізняється логістична регресія від лінійної регресії?\n",
        "Лінійна регресія прогнозує неперервні значення (реальні числа).\n",
        "\n",
        "Логістична регресія прогнозує ймовірність приналежності до класу (класифікація, вихід — від 0 до 1).\n",
        "\n",
        "2. У чому полягає роль сигмоїдної функції в логістичній регресії?\n",
        "Сигмоїдна функція g(z) = 1 / (1 + e^(-z)) перетворює будь-яке число на діапазон (0, 1), що дозволяє інтерпретувати вихід як ймовірність належності до класу 1.\n",
        "\n",
        "3. Чому для логістичної регресії не використовується функція вартості, як у лінійній регресії?\n",
        "У логістичній регресії помилка не є квадратичною, тому замість MSE використовується логістична функція вартості (крос-ентропія), яка краще підходить для оцінки ймовірностей.\n",
        "\n",
        "4. Які є способи запобігання перенавчанню (overfitting) в логістичній регресії?\n",
        "Регуляризація (L1 або L2)\n",
        "\n",
        "Зменшення розмірності даних\n",
        "\n",
        "Більший обсяг тренувальної вибірки\n",
        "\n",
        "Раннє зупинення навчання\n",
        "\n",
        "Dropout (у більш складних моделях, наприклад нейронних мережах)\n",
        "\n",
        "5. Як впливає параметр регуляризації λ на модель?\n",
        "Чим більше λ, тим сильніше штрафуються великі ваги, що може зменшити перенавчання, але погіршити точність.\n",
        "\n",
        "Чим менше λ, тим менше обмеження на ваги, що може призвести до перенавчання.\n",
        "\n",
        "6. Як обчислити точність, precision, recall та F1-score для моделі класифікації?\n",
        "Формули:\n",
        "\n",
        "Accuracy = (TP + TN) / (TP + TN + FP + FN)\n",
        "\n",
        "Precision = TP / (TP + FP)\n",
        "\n",
        "Recall = TP / (TP + FN)\n",
        "\n",
        "F1-score = 2 × (Precision × Recall) / (Precision + Recall)\n",
        "\n",
        "де:\n",
        "\n",
        "TP — істинно позитивні\n",
        "\n",
        "TN — істинно негативні\n",
        "\n",
        "FP — хибно позитивні\n",
        "\n",
        "FN — хибно негативні\n",
        "\n",
        "7. Що таке матриця помилок (confusion matrix) і як її інтерпретувати?\n",
        "Матриця помилок — це таблиця 2×2 для задачі бінарної класифікації, що показує кількість:\n",
        "\n",
        "Правильних і неправильних прогнозів для кожного класу.\n",
        "\n",
        "Структура:\n",
        "\n",
        "\n",
        "Прогноз: 0\tПрогноз: 1\n",
        "Факт: 0\tTN\tFP\n",
        "Факт: 1\tFN\tTP\n",
        "8. Які переваги та недоліки логістичної регресії порівняно з іншими методами класифікації?\n",
        "Переваги:\n",
        "\n",
        "Простота реалізації та інтерпретації\n",
        "\n",
        "Швидке тренування\n",
        "\n",
        "Працює добре для лінійно роздільних даних\n",
        "\n",
        "Недоліки:\n",
        "\n",
        "Не працює добре з нелінійними залежностями\n",
        "\n",
        "Чутлива до мультиколінеарності між ознаками\n",
        "\n",
        "9. У яких випадках доцільно використовувати логістичну регресію, а в яких інші методи класифікації?\n",
        "Використовуйте логістичну регресію, коли:\n",
        "\n",
        "Є лінійна межа розділення між класами\n",
        "\n",
        "Потрібна інтерпретація коефіцієнтів\n",
        "\n",
        "Використовуйте інші методи (наприклад, дерева рішень, SVM, нейронні мережі), коли:\n",
        "\n",
        "Є складні нелінійні залежності\n",
        "\n",
        "Дані великі і потребують більш гнучкої моделі\n",
        "\n",
        "10. Як можна інтерпретувати коефіцієнти моделі логістичної регресії?\n",
        "Коефіцієнт показує, наскільки зміниться логарифм odds (співвідношення ймовірностей) при збільшенні ознаки на 1 одиницю.\n",
        "\n",
        "Якщо коефіцієнт > 0 — ознака збільшує ймовірність класу 1.\n",
        "\n",
        "Якщо коефіцієнт < 0 — ознака зменшує ймовірність класу 1."
      ],
      "metadata": {
        "id": "CONalsOuOeRa"
      }
    }
  ]
}